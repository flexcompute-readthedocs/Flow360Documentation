{
 "cells": [
  {
   "attachments": {},
   "cell_type": "markdown",
   "metadata": {},
   "source": [
    "## High Lift Common Research Model (HL-CRM)\n",
    "\n",
    "### Introduction\n",
    "\n",
    "The purpose of this case study is to compute the turbulent flow past a NASA Common Research Model (CRM) with a full flap gap from the AIAA CFD High Lift Prediction Workshop.  The goal of the workshop is to research the state-of-the-art in difficult-to predict aircraft configurations, such as take-off and landing scenarios. These cases may be harder to converge, and exhibit complex flow physics.  The workshop allows comparisons to be made between different solvers and equation sets, and for performance and accuracy to be assessed.\n",
    "\n",
    "In this case study, we will use mesh provided by the workshop committee and run Flow360 CFD solver developed by Flexcompute Inc. We will demonstrate how to upload a mesh, run a case and perform post processing. Performance of results from Flow360 will be compared to flow solutions from other leading open-source and commercial solvers, which are published in the [3rd AIAA CFD High Lift Prediction Workshop (HiLiftPW-3)](https://hiliftpw.larc.nasa.gov/index-workshop3.html).\n",
    "\n",
    "### Problem Description\n",
    "\n",
    "The problem considers the flow around the HL-CRM model at angles of attack 𝞪 = 8° and 16° and a freestream Mach number of 0.2 ($M_{∞}$ = 0.2).  The geometry of the HL-CRM with gapped configuration can be downloaded from [here](https://hiliftpw.larc.nasa.gov/Workshop3/geometries.html), and is shown in Fig. 1.  The airplane has mirror symmetry. As a common practice, only half of the plane is simulated. Summary of geometry parameters is given below\n"
   ]
  },
  {
   "attachments": {},
   "cell_type": "markdown",
   "metadata": {},
   "source": [
    "<td> <img src=\"figures/GeometryIso.png\" alt=\"Drawing\" style=\"width: 450px;\"/> </td>\n",
    "<td> <img src=\"figures/Geometry.png\" alt=\"Drawing\" style=\"width: 450px;\"/> </td>"
   ]
  },
  {
   "cell_type": "markdown",
   "metadata": {},
   "source": [
    "- Mean aerodynamic chord (MAC) = 275.8 in, located at y = 468.75 in\n",
    "- Wing semi-span (b/2) = 1156.75 in\n",
    "- Reference area of the semi-span model = Sref/2 = 297,360.0 in$^{2}$\n",
    "- Moment reference center (MRC): x = 1325.90 in, y = 0.0 in, z = 177.95 in\n",
    "- Aspect Ratio (AR) = b$^{2}$/Sref = 9.0\n",
    "\n",
    "### Mesh\n",
    "\n",
    "Grids have been developed and provided by the workshop to enable a fair comparison across a variety of solvers.  Flow360 supports mesh files formats in AFLR3, CGNS, and SU2, or their .gz or .bzip2 compressions.  For the purpose of this tutorial we will use ugrid mesh file, which is of the AFLR3 format.  A medium-resolution mesh, with mixed hexahedral, tetrahedral, prism, and pyramid elements and with about 27M nodes, can be downloaded from [here](https://hiliftpw-ftp.larc.nasa.gov/HiLiftPW3/HL-CRM_Grids/Committee_Grids/B2-HLCRM_UnstrPrismTet_PW/FullGap/AFLR3/Woeber_Pointwise_HLCRM_FullGap_PrismTets_Medium.b8.ugrid.gz).  The file is already compressed in a .gz format.  Also, download the .mapbc file, to specify the solid wall (no-slip) boundaries, from [here](https://hiliftpw-ftp.larc.nasa.gov/HiLiftPW3/HL-CRM_Grids/Committee_Grids/B2-HLCRM_UnstrPrismTet_PW/FullGap/AFLR3/Woeber_Pointwise_HLCRM_FullGap_PrismTets_Medium.mapbc).  Meshes of other resolutions can also be downloaded from [here](https://hiliftpw-ftp.larc.nasa.gov/HiLiftPW3/HL-CRM_Grids/Committee_Grids/B2-HLCRM_UnstrPrismTet_PW/FullGap/AFLR3/).\n"
   ]
  },
  {
   "cell_type": "markdown",
   "metadata": {},
   "source": [
    "<td> <img src=\"figures/Mesh_medium.png\" alt=\"Main\" style=\"width: 900px;\"/> </td>"
   ]
  },
  {
   "cell_type": "markdown",
   "metadata": {},
   "source": [
    "<tr>\n",
    "    <td> <img src=\"figures/Mesh_OutboardFlap_medium.png\" alt=\"Drawing\" style=\"width: 450px;\"/> </td>\n",
    "    <td> <img src=\"figures/Mesh_Slat_medium.png\" alt=\"Drawing\" style=\"width: 450px;\"/> </td>\n",
    "</tr>"
   ]
  },
  {
   "cell_type": "markdown",
   "metadata": {},
   "source": [
    "### Setup and Solution\n",
    "\n",
    "#### Upload the Mesh File\n",
    "\n",
    "Now that the mesh has been downloaded, it can be uploaded to the Flow360 cloud.  We will do this using the Python API.  Open the Python API and import the Flow360 client.\n"
   ]
  },
  {
   "cell_type": "code",
   "execution_count": 24,
   "metadata": {},
   "outputs": [],
   "source": [
    "import flow360client"
   ]
  },
  {
   "cell_type": "markdown",
   "metadata": {},
   "source": [
    "Before we upload the mesh, we need to specify our no-slip boundaries.  We will do this using the mapbc file we downloaded earlier.  Make sure in your mapbc the boundary names do not have any spaces, otherwise the python code will not parse it.  To specify the no-slip boundaries, use the following command line:\n"
   ]
  },
  {
   "cell_type": "code",
   "execution_count": 29,
   "metadata": {},
   "outputs": [],
   "source": [
    "noSlipWalls = flow360client.noSlipWallsFromMapbc('D:/Flexcompute/Tutorials/HLCRM/Woeber_Pointwise_HLCRM_FullGap_HexPrismPyrTets_Medium.mapbc')"
   ]
  },
  {
   "cell_type": "markdown",
   "metadata": {},
   "source": [
    "Replace the file name with your own path to .mapbc file.\n",
    "\n",
    "Now the mesh can be uploaded using the following command:\n",
    "    "
   ]
  },
  {
   "cell_type": "code",
   "execution_count": null,
   "metadata": {},
   "outputs": [],
   "source": [
    "meshId = flow360client.NewMesh(fname='/path/to/hlcrm.b8.ugrid', noSlipWalls=noSlipWalls, meshName='HLCRM_medium', tags=['alpha16'])"
   ]
  },
  {
   "cell_type": "markdown",
   "metadata": {},
   "source": [
    "Replace the above fname and noSlipWalls with your own file path and parameter.  Parameter inputs of meshName and tags are optional.  Upon executing this command, it will return the meshId.  Use that for the next step.\n",
    "\n",
    "#### Upload the Case File\n",
    "\n",
    "To upload a case file, first prepare a JSON input file, either manually or by using the fun3d_to_flow360.py script:\n"
   ]
  },
  {
   "cell_type": "code",
   "execution_count": null,
   "metadata": {},
   "outputs": [],
   "source": [
    "python3 /path/to/flow360/flow360client/fun3d_to_flow360.py /path/to/fun3d.nml/path/to/hlcrm.mapbc /output/path/for/Flow360.json"
   ]
  },
  {
   "cell_type": "markdown",
   "metadata": {},
   "source": [
    "If preparing manually, the latest Flow360.json configuration file can be downloaded from [here](https://www.flexcompute.com/assets/static/Flow360.json).  Be sure to change the flow and solver parameters in Flow360.json file with the parameters mentioned in the earlier sections.  Once we have done this, the case can be submitted using the following command line:\n"
   ]
  },
  {
   "cell_type": "code",
   "execution_count": null,
   "metadata": {},
   "outputs": [],
   "source": [
    "caseId = flow360client.NewCase(meshId='', config='/output/path/for/Flow360.json', caseName='HLCRM_case', tags=['alpha16'])"
   ]
  },
  {
   "cell_type": "markdown",
   "metadata": {},
   "source": [
    "Replace the meshId generated from the above step, and give your own config path.  Parameter inputs of caseName and tags are optional.  Upon this command finishing, it will return the caseId.  Use that for the next step.\n",
    "\n",
    "#### Downloading the Results\n",
    "\n",
    "To download the surface data (surface distributions and slices), use the following command line:\n"
   ]
  },
  {
   "cell_type": "markdown",
   "metadata": {},
   "source": [
    "To download the surface data (surface distributions and slices) and the entire flowfield, respectively, use the following commands:\n"
   ]
  },
  {
   "cell_type": "code",
   "execution_count": null,
   "metadata": {},
   "outputs": [],
   "source": [
    "flow360client.case.DownloadSurfaceResults('', '/tmp/surfaces.tar.gz')\n",
    "flow360client.case.DownloadVolumetricResults('', '/tmp/volume.tar.gz')"
   ]
  },
  {
   "cell_type": "markdown",
   "metadata": {},
   "source": [
    "Replace the second parameter with your target location and output file name, ending with '.tar.gz'.\n",
    "\n",
    "You can also download the nonlinear residuals, surface forces and total forces by using the following command line:\n"
   ]
  },
  {
   "cell_type": "code",
   "execution_count": null,
   "metadata": {},
   "outputs": [],
   "source": [
    "flow360client.case.DownloadResultsFile(caseId, 'fileName.csv')"
   ]
  },
  {
   "cell_type": "markdown",
   "metadata": {},
   "source": [
    "Replace caseId with your caseId and fileName with nonlinear_residuals, surface_forces and total_forces for their respective data.\n",
    "\n",
    "### Grid Convergence\n",
    "\n",
    "The grid convergence of the chosen mesh in this tutorial has been done by comparing the coefficients of lift and drag for angle of attacks 8° and 16° obtained through Flow360 with [solutions presented by other solvers at the High Lift workshop](https://hiliftpw-ftp.larc.nasa.gov/HiLiftPW3/ResultsFromHiLiftPW3/).  This grid convergence is presented in Fig. 3, and the Flow360 solver times for a coarse, medium and fine grid are presented in Table 1.\n"
   ]
  },
  {
   "cell_type": "markdown",
   "metadata": {},
   "source": [
    "<style type=\"text/css\">\n",
    ".tg  {border-collapse:collapse;border-spacing:0;}\n",
    ".tg td{border-color:black;border-style:solid;border-width:1px;font-family:Arial, sans-serif;font-size:14px;\n",
    "  overflow:hidden;padding:10px 5px;word-break:normal;}\n",
    ".tg th{border-color:black;border-style:solid;border-width:1px;font-family:Arial, sans-serif;font-size:14px;\n",
    "  font-weight:normal;overflow:hidden;padding:10px 5px;word-break:normal;}\n",
    ".tg .tg-c3ow{border-color:inherit;text-align:center;vertical-align:top}\n",
    ".tg .tg-0pky{border-color:inherit;text-align:left;vertical-align:top}\n",
    "</style>\n",
    "<table class=\"tg\">\n",
    "<thead>\n",
    "  <tr>\n",
    "    <th class=\"tg-0pky\"></th>\n",
    "    <th class=\"tg-0pky\"></th>\n",
    "    <th class=\"tg-0pky\"></th>\n",
    "    <th class=\"tg-c3ow\" colspan=\"2\"><span style=\"font-style:normal;text-decoration:none;color:#000;background-color:transparent\">Solver Time</span></th>\n",
    "  </tr>\n",
    "</thead>\n",
    "<tbody>\n",
    "  <tr>\n",
    "    <td class=\"tg-0pky\"></td>\n",
    "    <td class=\"tg-c3ow\"><span style=\"font-style:normal;text-decoration:none;color:#000;background-color:transparent\"># of Nodes</span></td>\n",
    "    <td class=\"tg-c3ow\"><span style=\"font-style:normal;text-decoration:none;color:#000;background-color:transparent\"># of Cells</span></td>\n",
    "    <td class=\"tg-c3ow\"><span style=\"font-style:normal;text-decoration:none;color:#000;background-color:transparent\">𝞪 = 8°</span></td>\n",
    "    <td class=\"tg-c3ow\"><span style=\"font-style:normal;text-decoration:none;color:#000;background-color:transparent\">𝞪 = 16°</span></td>\n",
    "  </tr>\n",
    "  <tr>\n",
    "    <td class=\"tg-0pky\"><span style=\"font-weight:400;font-style:normal;text-decoration:none;color:#000;background-color:transparent\">Coarse</span></td>\n",
    "    <td class=\"tg-c3ow\"><span style=\"font-weight:400;font-style:normal;text-decoration:none;color:#000;background-color:transparent\">8.3M</span></td>\n",
    "    <td class=\"tg-c3ow\"><span style=\"font-weight:400;font-style:normal;text-decoration:none;color:#000;background-color:transparent\">18.9M</span></td>\n",
    "    <td class=\"tg-c3ow\"><span style=\"font-weight:400;font-style:normal;text-decoration:none;color:#000;background-color:transparent\">1min 45sec</span></td>\n",
    "    <td class=\"tg-c3ow\"><span style=\"font-weight:400;font-style:normal;text-decoration:none;color:#000;background-color:transparent\">2min 18sec</span></td>\n",
    "  </tr>\n",
    "  <tr>\n",
    "    <td class=\"tg-0pky\"><span style=\"font-weight:400;font-style:normal;text-decoration:none;color:#000;background-color:transparent\">Medium</span></td>\n",
    "    <td class=\"tg-c3ow\"><span style=\"font-weight:400;font-style:normal;text-decoration:none;color:#000;background-color:transparent\">27M</span></td>\n",
    "    <td class=\"tg-c3ow\"><span style=\"font-weight:400;font-style:normal;text-decoration:none;color:#000;background-color:transparent\">46.8M</span></td>\n",
    "    <td class=\"tg-c3ow\"><span style=\"font-weight:400;font-style:normal;text-decoration:none;color:#000;background-color:transparent\">5min 33sec</span></td>\n",
    "    <td class=\"tg-c3ow\"><span style=\"font-weight:400;font-style:normal;text-decoration:none;color:#000;background-color:transparent\">19min 52sec</span></td>\n",
    "  </tr>\n",
    "  <tr>\n",
    "    <td class=\"tg-0pky\"><span style=\"font-weight:400;font-style:normal;text-decoration:none;color:#000;background-color:transparent\">Fine</span></td>\n",
    "    <td class=\"tg-c3ow\"><span style=\"font-weight:400;font-style:normal;text-decoration:none;color:#000;background-color:transparent\">70.7M</span></td>\n",
    "    <td class=\"tg-c3ow\"><span style=\"font-weight:400;font-style:normal;text-decoration:none;color:#000;background-color:transparent\">116.3M</span></td>\n",
    "    <td class=\"tg-c3ow\"><span style=\"font-weight:400;font-style:normal;text-decoration:none;color:#000;background-color:transparent\">29min 6sec</span></td>\n",
    "    <td class=\"tg-c3ow\"><span style=\"font-weight:400;font-style:normal;text-decoration:none;color:#000;background-color:transparent\">35min 9sec</span></td>\n",
    "  </tr>\n",
    "</tbody>\n",
    "</table>"
   ]
  },
  {
   "cell_type": "markdown",
   "metadata": {},
   "source": [
    "<tr>\n",
    "    <td> <img src=\"figures/HLCRM_CLCD_plots_alpha8.png\" alt=\"Drawing\" style=\"width: 900px;\"/> </td>\n",
    "</tr>\n",
    "<tr>\n",
    "    <td> <img src=\"figures/HLCRM_CLCD_plots_alpha16.png\" alt=\"Drawing\" style=\"width: 900px;\"/> </td>\n",
    "</tr>"
   ]
  },
  {
   "cell_type": "markdown",
   "metadata": {},
   "source": [
    "Flow360 performs very well compared to other CFD solvers. Even using coarse mesh, Flow360 obtains results that are very close to results calculated from fine meshes.\n",
    "\n",
    "### Results\n",
    "\n",
    "The results data obtained from the previous step can be post-processed in either ParaView or Tecplot.  We will use ParaView to post-process these results and plot coefficients of skin friction and pressure.\n",
    "\n",
    "Figure 4 shows the contour plots of coefficient of skin friction for angle of attacks 8° and 16°.\n"
   ]
  },
  {
   "cell_type": "markdown",
   "metadata": {},
   "source": [
    "<tr>\n",
    "    <td> <img src=\"figures/Cf_alpha8.png\" alt=\"Drawing\" style=\"width: 900px;\"/> </td>\n",
    "</tr>\n",
    "<tr>\n",
    "    <td> <img src=\"figures/Cf_alpha16.png\" alt=\"Drawing\" style=\"width: 900px;\"/> </td>\n",
    "</tr>"
   ]
  },
  {
   "cell_type": "markdown",
   "metadata": {},
   "source": [
    "And Fig. 5 shows contour plots of coefficient of pressure angle of attacks 8° and 16° for both the upper and lower surfaces of the wing.\n"
   ]
  },
  {
   "cell_type": "markdown",
   "metadata": {},
   "source": [
    "<tr>\n",
    "    <td> <img src=\"figures/Cp_alpha8.png\" alt=\"Drawing\" style=\"width: 900px;\"/> </td>\n",
    "</tr>\n",
    "<tr>\n",
    "    <td> <img src=\"figures/Cp_alpha16.png\" alt=\"Drawing\" style=\"width: 900px;\"/> </td>\n",
    "</tr>"
   ]
  },
  {
   "cell_type": "markdown",
   "metadata": {},
   "source": [
    "### Summary\n",
    "\n",
    "This tutorial demonstrated how to set up, solve and present results of an external aerodynamics flow over NASA's Common Research Model (CRM) from the High Lift Prediction Workshop using Flow360’s Python API.  The $C_{L}$ and C$_{D}$ data obtained through Flow360 has been compared with the solutions from various other solvers from the High Lift Prediction Workshop for accuracy."
   ]
  }
 ],
 "metadata": {
  "kernelspec": {
   "display_name": "Python 3",
   "language": "python",
   "name": "python3"
  },
  "language_info": {
   "codemirror_mode": {
    "name": "ipython",
    "version": 3
   },
   "file_extension": ".py",
   "mimetype": "text/x-python",
   "name": "python",
   "nbconvert_exporter": "python",
   "pygments_lexer": "ipython3",
   "version": "3.9.1"
  }
 },
 "nbformat": 4,
 "nbformat_minor": 4
}
